{
 "cells": [
  {
   "cell_type": "code",
   "execution_count": 11,
   "id": "4cc4896f",
   "metadata": {},
   "outputs": [],
   "source": [
    "from keras.models import Sequential, Model, load_model\n",
    "from keras.applications.vgg16 import VGG16, preprocess_input\n",
    "from tensorflow.keras.preprocessing.image import load_img\n",
    "# from keras.preprocessing.image import ImageDataGenerator, load_ig, img_to_array\n",
    "from keras.layers import *\n",
    "from keras.optimizers import *\n",
    "from keras.callbacks import Callback, EarlyStopping\n",
    "from keras.utils import to_categorical\n",
    "from sklearn.metrics import confusion_matrix\n",
    "import tensorflow as tf\n",
    "import matplotlib.pyplot as plt\n",
    "import os\n",
    "import glob\n",
    "import cv2\n",
    "import numpy as np\n",
    "import pandas as pd\n",
    "from PIL import Image\n",
    "from pathlib import Path\n",
    "import tensorflow as tf\n",
    "import matplotlib.pyplot as plt\n",
    "from random import shuffle\n",
    "from tqdm import tqdm\n",
    "%matplotlib inline"
   ]
  },
  {
   "cell_type": "code",
   "execution_count": null,
   "id": "3aed6b33",
   "metadata": {},
   "outputs": [],
   "source": []
  },
  {
   "cell_type": "code",
   "execution_count": 12,
   "id": "189fdaf6",
   "metadata": {},
   "outputs": [],
   "source": [
    "data_dir = Path(\"Dataset/Curve_NoCurve_Dataset/Curve_NoCurve_Dataset/\")\n",
    "\n",
    "train_data_curve = data_dir/\"train/curve\"\n",
    "train_data_nocurve = data_dir/\"train/no_curve\"\n",
    "    \n",
    "test_data_curve = data_dir/\"test/curve\"\n",
    "test_data_nocurve = data_dir/\"test/no_curve\""
   ]
  },
  {
   "cell_type": "code",
   "execution_count": 13,
   "id": "a0525a5e",
   "metadata": {},
   "outputs": [],
   "source": [
    "def train_data_with_label(pathh):\n",
    "    train_images = []\n",
    "    \n",
    "    for i in tqdm(os.listdir(pathh)):\n",
    "        path = os.path.join(pathh, i)\n",
    "        img = cv2.imread(path, cv2.IMREAD_GRAYSCALE)\n",
    "#         img = cv2.resize(img, 256, 256)\n",
    "        train_images.append([np.array(img)])\n",
    "        \n",
    "    shuffle(train_images)\n",
    "    return train_images"
   ]
  },
  {
   "cell_type": "code",
   "execution_count": 14,
   "id": "e1016540",
   "metadata": {},
   "outputs": [],
   "source": [
    "def test_data_with_label(pathh):\n",
    "    test_images = []\n",
    "    \n",
    "    for i in tqdm(os.listdir(pathh)):\n",
    "        path = os.path.join(pathh, i)\n",
    "        img = cv2.imread(path, cv2.IMREAD_GRAYSCALE)\n",
    "#         img = cv2.resize(img, 256, 256)\n",
    "        test_images.append([np.array(img)])\n",
    "\n",
    "    return test_images"
   ]
  },
  {
   "cell_type": "code",
   "execution_count": null,
   "id": "70c79364",
   "metadata": {},
   "outputs": [],
   "source": []
  },
  {
   "cell_type": "code",
   "execution_count": 15,
   "id": "200a25ca",
   "metadata": {},
   "outputs": [
    {
     "name": "stderr",
     "output_type": "stream",
     "text": [
      "100%|███████████████████████████████████████████████████████████████████████████████| 450/450 [00:00<00:00, 985.88it/s]\n",
      "100%|██████████████████████████████████████████████████████████████████████████████| 450/450 [00:00<00:00, 1109.80it/s]\n",
      "100%|█████████████████████████████████████████████████████████████████████████████████| 50/50 [00:00<00:00, 984.25it/s]\n",
      "100%|████████████████████████████████████████████████████████████████████████████████| 62/62 [00:00<00:00, 1001.53it/s]\n"
     ]
    }
   ],
   "source": [
    "## Training Images\n",
    "train_images1 = train_data_with_label(train_data_curve)\n",
    "train_images2 = train_data_with_label(train_data_nocurve)\n",
    "train_image = np.append(train_images1, train_images2)\n",
    "train_image = train_image.reshape(-1,256, 256, 1)\n",
    "\n",
    "## Training Labels\n",
    "label1 = np.ones(len(train_images1),dtype=np.int8) \n",
    "label2 = np.zeros(len(train_images2), dtype=np.int8)\n",
    "train_label = np.append(label1, label2)\n",
    "\n",
    "## Shuffling Dataset\n",
    "c = list(zip(train_image, train_label))\n",
    "shuffle(c)\n",
    "train_image , train_label = zip(*c)\n",
    "train_image = np.asarray(train_image)\n",
    "train_label = np.asarray(train_label)\n",
    "\n",
    "## Testing Images\n",
    "test_images1 = test_data_with_label(test_data_curve)\n",
    "test_images2 = test_data_with_label(test_data_nocurve)\n",
    "test_image = np.append(test_images1, test_images2)\n",
    "test_image = test_image.reshape(-1, 256, 256, 1)\n",
    "\n",
    "## Testing Labels\n",
    "label1 = np.ones(len(test_images1),dtype=np.int8) \n",
    "label2 = np.zeros(len(test_images2), dtype=np.int8)\n",
    "test_label = np.append(label1, label2)\n",
    "\n",
    "## Shuffling Dataset\n",
    "d = list(zip(test_image, test_label))\n",
    "shuffle(d)\n",
    "test_image, test_label = zip(*d)\n",
    "test_image = np.asarray(test_image)\n",
    "test_label = np.asarray(test_label)"
   ]
  },
  {
   "cell_type": "markdown",
   "id": "45949638",
   "metadata": {},
   "source": [
    "## One-Hot-Encoding Labels"
   ]
  },
  {
   "cell_type": "code",
   "execution_count": 16,
   "id": "fa9b67db",
   "metadata": {},
   "outputs": [],
   "source": [
    "trl = np.zeros((train_label.size, train_label.max() +1 ))\n",
    "trl[np.arange(train_label.size), train_label] = 1 \n",
    "train_label = trl\n",
    "\n",
    "tel = np.zeros((test_label.size, test_label.max() + 1))\n",
    "tel[np.arange(test_label.size), test_label] = 1\n",
    "test_label = tel"
   ]
  },
  {
   "cell_type": "code",
   "execution_count": 17,
   "id": "46547402",
   "metadata": {},
   "outputs": [
    {
     "name": "stdout",
     "output_type": "stream",
     "text": [
      "[[0. 1.]\n",
      " [0. 1.]\n",
      " [0. 1.]\n",
      " ...\n",
      " [0. 1.]\n",
      " [0. 1.]\n",
      " [1. 0.]]\n",
      "[[0. 1.]\n",
      " [0. 1.]\n",
      " [1. 0.]\n",
      " [0. 1.]\n",
      " [1. 0.]\n",
      " [1. 0.]\n",
      " [0. 1.]\n",
      " [1. 0.]\n",
      " [1. 0.]\n",
      " [0. 1.]\n",
      " [0. 1.]\n",
      " [1. 0.]\n",
      " [1. 0.]\n",
      " [0. 1.]\n",
      " [1. 0.]\n",
      " [0. 1.]\n",
      " [1. 0.]\n",
      " [1. 0.]\n",
      " [1. 0.]\n",
      " [1. 0.]\n",
      " [0. 1.]\n",
      " [1. 0.]\n",
      " [1. 0.]\n",
      " [0. 1.]\n",
      " [0. 1.]\n",
      " [1. 0.]\n",
      " [0. 1.]\n",
      " [1. 0.]\n",
      " [0. 1.]\n",
      " [1. 0.]\n",
      " [1. 0.]\n",
      " [0. 1.]\n",
      " [1. 0.]\n",
      " [0. 1.]\n",
      " [1. 0.]\n",
      " [0. 1.]\n",
      " [0. 1.]\n",
      " [1. 0.]\n",
      " [1. 0.]\n",
      " [1. 0.]\n",
      " [0. 1.]\n",
      " [1. 0.]\n",
      " [1. 0.]\n",
      " [1. 0.]\n",
      " [1. 0.]\n",
      " [0. 1.]\n",
      " [0. 1.]\n",
      " [0. 1.]\n",
      " [1. 0.]\n",
      " [1. 0.]\n",
      " [0. 1.]\n",
      " [1. 0.]\n",
      " [0. 1.]\n",
      " [1. 0.]\n",
      " [1. 0.]\n",
      " [0. 1.]\n",
      " [1. 0.]\n",
      " [0. 1.]\n",
      " [0. 1.]\n",
      " [1. 0.]\n",
      " [0. 1.]\n",
      " [0. 1.]\n",
      " [1. 0.]\n",
      " [0. 1.]\n",
      " [0. 1.]\n",
      " [1. 0.]\n",
      " [0. 1.]\n",
      " [0. 1.]\n",
      " [1. 0.]\n",
      " [0. 1.]\n",
      " [1. 0.]\n",
      " [1. 0.]\n",
      " [0. 1.]\n",
      " [1. 0.]\n",
      " [1. 0.]\n",
      " [0. 1.]\n",
      " [1. 0.]\n",
      " [0. 1.]\n",
      " [1. 0.]\n",
      " [1. 0.]\n",
      " [1. 0.]\n",
      " [1. 0.]\n",
      " [1. 0.]\n",
      " [0. 1.]\n",
      " [1. 0.]\n",
      " [0. 1.]\n",
      " [0. 1.]\n",
      " [0. 1.]\n",
      " [0. 1.]\n",
      " [1. 0.]\n",
      " [1. 0.]\n",
      " [1. 0.]\n",
      " [1. 0.]\n",
      " [0. 1.]\n",
      " [0. 1.]\n",
      " [1. 0.]\n",
      " [1. 0.]\n",
      " [1. 0.]\n",
      " [1. 0.]\n",
      " [0. 1.]\n",
      " [1. 0.]\n",
      " [1. 0.]\n",
      " [0. 1.]\n",
      " [0. 1.]\n",
      " [0. 1.]\n",
      " [0. 1.]\n",
      " [1. 0.]\n",
      " [0. 1.]\n",
      " [1. 0.]\n",
      " [1. 0.]\n",
      " [1. 0.]\n",
      " [0. 1.]]\n"
     ]
    }
   ],
   "source": [
    "print(trl)\n",
    "print(tel)"
   ]
  },
  {
   "cell_type": "code",
   "execution_count": 18,
   "id": "8abbf9a9",
   "metadata": {},
   "outputs": [
    {
     "name": "stdout",
     "output_type": "stream",
     "text": [
      "Train Image :  (900, 256, 256, 1)\n",
      "Train Labels:  (900, 2)\n",
      "Test Image  :  (112, 256, 256, 1)\n",
      "Test Labels:  (112, 2)\n"
     ]
    }
   ],
   "source": [
    "print(\"Train Image : \", train_image.shape)\n",
    "print(\"Train Labels: \", train_label.shape)\n",
    "print(\"Test Image  : \", test_image.shape)\n",
    "print(\"Test Labels: \", test_label.shape)"
   ]
  },
  {
   "cell_type": "code",
   "execution_count": 19,
   "id": "3173ce71",
   "metadata": {},
   "outputs": [
    {
     "data": {
      "text/plain": [
       "(256, 256, 1)"
      ]
     },
     "execution_count": 19,
     "metadata": {},
     "output_type": "execute_result"
    }
   ],
   "source": [
    "train_image[0].shape"
   ]
  },
  {
   "cell_type": "code",
   "execution_count": null,
   "id": "b787bfe8",
   "metadata": {},
   "outputs": [],
   "source": []
  },
  {
   "cell_type": "code",
   "execution_count": null,
   "id": "9fbfedb1",
   "metadata": {},
   "outputs": [
    {
     "name": "stdout",
     "output_type": "stream",
     "text": [
      "Epoch 1/10\n",
      "18/18 [==============================] - 17s 901ms/step - loss: 14.3793 - accuracy: 0.5456\n",
      "Epoch 2/10\n",
      "16/18 [=========================>....] - ETA: 1s - loss: 0.6679 - accuracy: 0.6388"
     ]
    }
   ],
   "source": [
    "model = Sequential()\n",
    "\n",
    "model.add( InputLayer( input_shape=[256, 256, 1]))\n",
    "\n",
    "model.add(Conv2D(filters=32, kernel_size=5, strides=1, padding='same',activation='relu'))\n",
    "model.add(MaxPool2D(pool_size=5,padding='same'))\n",
    "\n",
    "model.add(Conv2D(filters=50, kernel_size=5, strides=1, padding='same', activation='relu'))\n",
    "model.add(MaxPool2D(pool_size=5, padding='same'))\n",
    "\n",
    "model.add(Conv2D(filters=80, kernel_size=5, strides=1, padding='same', activation='relu'))\n",
    "model.add(MaxPool2D(pool_size=5, padding='same'))\n",
    "\n",
    "model.add(Dropout(0.25))\n",
    "model.add(Flatten())\n",
    "model.add(Dense(512, activation='relu'))\n",
    "model.add(Dropout(rate=0.5))\n",
    "model.add(Dense(2, activation='softmax')) # i changed this Dense 2 -> 1, and its not giving error of Dimensions not matching (900,1) with (900,2)\n",
    "\n",
    "optimizer = Adam(lr=1e-3)\n",
    "\n",
    "model.compile(optimizer=optimizer, loss='categorical_crossentropy', metrics=[\"accuracy\"])\n",
    "model.fit(x=train_image, y=train_label, epochs=10, batch_size=50)"
   ]
  },
  {
   "cell_type": "code",
   "execution_count": null,
   "id": "25a143e7",
   "metadata": {},
   "outputs": [],
   "source": []
  },
  {
   "cell_type": "code",
   "execution_count": null,
   "id": "4e9e07eb",
   "metadata": {},
   "outputs": [],
   "source": []
  },
  {
   "cell_type": "code",
   "execution_count": null,
   "id": "b0a34b89",
   "metadata": {},
   "outputs": [],
   "source": [
    "fig = plt.figure(figsize=(20, 20))\n",
    "\n",
    "k = 0\n",
    "for img  in test_image:\n",
    "    \n",
    "    y = fig.add_subplot(12,12,k+1)\n",
    "    k += 1\n",
    "    data = img.reshape(1,256,256,1)\n",
    "    model_out = model.predict([data])\n",
    "    \n",
    "    \n",
    "    if np.argmax(model_out) == 1:\n",
    "        str_label = \"Curve\"\n",
    "    else:\n",
    "        str_label = \"No_Curve\"\n",
    "    \n",
    "    y.imshow(img, cmap='gray')\n",
    "    plt.title(str_label)\n",
    "    y.axes.get_xaxis().set_visible(False)\n",
    "    y.axes.get_yaxis().set_visible(False)"
   ]
  },
  {
   "cell_type": "code",
   "execution_count": null,
   "id": "8ced5b46",
   "metadata": {},
   "outputs": [],
   "source": [
    "\n"
   ]
  },
  {
   "cell_type": "code",
   "execution_count": null,
   "id": "6eaaf7f3",
   "metadata": {},
   "outputs": [],
   "source": []
  }
 ],
 "metadata": {
  "kernelspec": {
   "display_name": "Python 3 (ipykernel)",
   "language": "python",
   "name": "python3"
  },
  "language_info": {
   "codemirror_mode": {
    "name": "ipython",
    "version": 3
   },
   "file_extension": ".py",
   "mimetype": "text/x-python",
   "name": "python",
   "nbconvert_exporter": "python",
   "pygments_lexer": "ipython3",
   "version": "3.9.7"
  }
 },
 "nbformat": 4,
 "nbformat_minor": 5
}
