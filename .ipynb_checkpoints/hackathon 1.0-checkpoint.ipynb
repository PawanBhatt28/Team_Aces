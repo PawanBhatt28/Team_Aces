{
 "cells": [
  {
   "cell_type": "code",
   "execution_count": 17,
   "id": "b8b52696",
   "metadata": {},
   "outputs": [],
   "source": [
    "import numpy as np\n",
    "from matplotlib.image import imread\n",
    "\n",
    "from PIL import Image, ImageFilter\n",
    "%matplotlib inline \n",
    "from matplotlib import pyplot as plt"
   ]
  },
  {
   "cell_type": "code",
   "execution_count": 18,
   "id": "ded423ef",
   "metadata": {},
   "outputs": [],
   "source": [
    "with Image.open(\"1.png\") as image:\n",
    "    image.load()\n",
    "with Image.open(\"2.png\") as image2:\n",
    "    image2.load()\n",
    "with Image.open(\"3.png\") as image3:\n",
    "    image3.load()\n",
    "with Image.open(\"4.jpg\") as image4:\n",
    "    image4.load()\n",
    "with Image.open(\"5.png\") as image5:\n",
    "    image5.load()\n",
    "with Image.open(\"6.png\") as image6:\n",
    "    image6.load()\n",
    "with Image.open(\"pawan.png\") as pawanImg:\n",
    "    pawanImg.load()"
   ]
  },
  {
   "cell_type": "code",
   "execution_count": 21,
   "id": "4c1c28bd",
   "metadata": {},
   "outputs": [],
   "source": [
    "image2.show()"
   ]
  },
  {
   "cell_type": "code",
   "execution_count": 48,
   "id": "ad16a410",
   "metadata": {},
   "outputs": [],
   "source": [
    "# npImage = imread(\"pawan.png\")\n",
    "# npImageArray = npImage[:,:,0]\n",
    "# plt.imshow(npImage, interpolation=\"nearest\")\n",
    "# plt.show()"
   ]
  },
  {
   "cell_type": "code",
   "execution_count": 11,
   "id": "4b6961fe",
   "metadata": {},
   "outputs": [],
   "source": [
    "# image = image.convert('L')\n",
    "pawanImg = pawanImg.convert(\"L\")\n",
    "edgeImage = pawanImg.filter(ImageFilter.Kernel((3,3),(1,0,-1,5,0,-5,1,0,-1),1,0))\n",
    "edgeImage.show()"
   ]
  },
  {
   "cell_type": "code",
   "execution_count": 10,
   "id": "fde51815",
   "metadata": {},
   "outputs": [],
   "source": [
    "edgeImage = pawanImg.filter(ImageFilter.Kernel((3,3),(1,1,1,0,0,0,-1,-1,-1),1,0))\n",
    "edgeImage.show()"
   ]
  },
  {
   "cell_type": "code",
   "execution_count": 97,
   "id": "5d39d39f",
   "metadata": {},
   "outputs": [],
   "source": [
    "edgeImage = image5.filter(ImageFilter.Kernel((3,3),(1,0,-1,5,0,-5,1,0,-1),1,0))\n",
    "edgeImage.show()"
   ]
  },
  {
   "cell_type": "code",
   "execution_count": 15,
   "id": "75b73d15",
   "metadata": {},
   "outputs": [],
   "source": [
    "edgeImage = image5.filter(ImageFilter.Kernel((3,3),(1,0,-1,1,0,-1,1,0,-1),1,0))\n",
    "edgeImage.show()"
   ]
  },
  {
   "cell_type": "code",
   "execution_count": 23,
   "id": "edcc80b3",
   "metadata": {},
   "outputs": [],
   "source": [
    "image2 = image2.convert(\"L\")\n",
    "edgeImage = image2.filter(ImageFilter.Kernel((3,3),(3,0,-3,10,0,-10,3,0,-3),1,0))\n",
    "edgeImage.show()"
   ]
  },
  {
   "cell_type": "code",
   "execution_count": 30,
   "id": "92bad9c6",
   "metadata": {},
   "outputs": [],
   "source": [
    "image2 = image2.convert(\"L\")\n",
    "edgeImage = image2.filter(ImageFilter.Kernel((5,5), (1,1,1,1,1,0,0,0,0,0,0,0,0,0,0,0,0,0,0,0,-1,-1,-1,-1,-1),1,0))\n",
    "edgeImage.show()"
   ]
  },
  {
   "cell_type": "code",
   "execution_count": null,
   "id": "530fc409",
   "metadata": {},
   "outputs": [],
   "source": [
    "(5,5), (1,1,1,1,1,1,1,1,1,1,0,0,0,0,0,-1,-1,-1,-1,-1,-1,-1,-1,-1,-1)"
   ]
  },
  {
   "cell_type": "code",
   "execution_count": 28,
   "id": "88d41b57",
   "metadata": {},
   "outputs": [],
   "source": [
    "image2 = image2.convert(\"L\")\n",
    "edgeImage = image2.filter(ImageFilter.Kernel((3,3),(1,1,1,0,0,0,-1,-1,-1),1,0))\n",
    "edgeImage.show()"
   ]
  },
  {
   "cell_type": "code",
   "execution_count": 31,
   "id": "a9d7f78a",
   "metadata": {},
   "outputs": [],
   "source": [
    "image2 = image2.convert(\"L\")\n",
    "edgeImage = image2.filter(ImageFilter.FIND_EDGES)\n",
    "edgeImage.show()"
   ]
  },
  {
   "cell_type": "code",
   "execution_count": 33,
   "id": "6c0d16f5",
   "metadata": {},
   "outputs": [],
   "source": [
    "image2 = image2.convert(\"L\")\n",
    "edgeImage = image2.filter(ImageFilter.MaxFilter())\n",
    "edgeImage.show()"
   ]
  },
  {
   "cell_type": "code",
   "execution_count": 47,
   "id": "c51ab68c",
   "metadata": {},
   "outputs": [],
   "source": [
    "image2 = image2.convert(\"L\")\n",
    "edgeImage = image2.filter(ImageFilter.BLUR)\n",
    "edgeImage.show()"
   ]
  },
  {
   "cell_type": "markdown",
   "id": "1e4d41e8",
   "metadata": {},
   "source": [
    "## increasing density of whites"
   ]
  },
  {
   "cell_type": "code",
   "execution_count": 57,
   "id": "37d56333",
   "metadata": {},
   "outputs": [],
   "source": [
    "im = Image.open(\"2.png\")\n",
    "pixelMap = im.load()\n",
    "im.show()"
   ]
  },
  {
   "cell_type": "code",
   "execution_count": null,
   "id": "a8c33979",
   "metadata": {},
   "outputs": [],
   "source": [
    "def incDensity(img):\n",
    "    pixelsNew = img.load()\n",
    "\n",
    "    for i in range(img.size[0]):\n",
    "        for j in range(img.size[1]):\n",
    "            if pixelMap[i,j] == 255:\n",
    "                if( j == 0 or i == 0 or j == img.size[1]-1 or i == img.size[0]-1):\n",
    "                    continue\n",
    "                for k in range(5):\n",
    "                    pixelsNew[i+k+1, j] = 255\n",
    "                    pixelsNew[i, j+k+1] = 255\n",
    "                    pixelsNew[i-k-1, j] = 255\n",
    "                    pixelsNew[i, j-k-1] = 255\n",
    "                    pixelsNew[i+k+1, j+k+1] = 255\n",
    "                    pixelsNew[i+k+1, j-k-1] = 255\n",
    "                    pixelsNew[i-k-1, j+k+1] = 255\n",
    "                    pixelsNew[i-k-1, j-k-1] = 255"
   ]
  },
  {
   "cell_type": "code",
   "execution_count": 129,
   "id": "df0b2a62",
   "metadata": {},
   "outputs": [],
   "source": [
    "im = Image.open(\"2.png\")\n",
    "im = im.convert(\"L\")\n",
    "pixelMap = im.load()\n",
    "\n",
    "img = Image.new(im.mode, im.size)\n",
    "pixelsNew = img.load()\n",
    "\n",
    "for i in range(img.size[0]):\n",
    "    for j in range(img.size[1]):\n",
    "        if pixelMap[i,j] == 255:\n",
    "            if( j == 0 or i == 0 or j == img.size[1]-1 or i == img.size[0]-1):\n",
    "                continue\n",
    "            for k in range(5):\n",
    "                pixelsNew[i+k+1, j] = 255\n",
    "                pixelsNew[i, j+k+1] = 255\n",
    "                pixelsNew[i-k-1, j] = 255\n",
    "                pixelsNew[i, j-k-1] = 255\n",
    "                pixelsNew[i+k+1, j+k+1] = 255\n",
    "                pixelsNew[i+k+1, j-k-1] = 255\n",
    "                pixelsNew[i-k-1, j+k+1] = 255\n",
    "                pixelsNew[i-k-1, j-k-1] = 255\n",
    "\n",
    "img.show()\n",
    "newImg = img.filter(ImageFilter.FIND_EDGES)\n",
    "newImg2 = img.filter(ImageFilter.Kernel((3,3),(1,1,1,0,0,0,1,1,1),1,0))\n",
    "newImg.show()"
   ]
  },
  {
   "cell_type": "code",
   "execution_count": 114,
   "id": "800a92c9",
   "metadata": {},
   "outputs": [],
   "source": [
    "for i in range(img.size[0]):\n",
    "    for j in range(img.size[1]):\n",
    "        if pixelMap[i,j] == 255:\n",
    "            if( j == 0 or i == 0 or j == img.size[1]-1 or i == img.size[0]-1):\n",
    "                continue\n",
    "            for k in range(1):\n",
    "                pixelsNew[i+k+1, j] = 255\n",
    "                pixelsNew[i, j+k+1] = 255\n",
    "                pixelsNew[i-k-1, j] = 255\n",
    "                pixelsNew[i, j-k-1] = 255\n",
    "                pixelsNew[i+k+1, j+k+1] = 255\n",
    "                pixelsNew[i+k+1, j-k-1] = 255\n",
    "                pixelsNew[i-k-1, j+k+1] = 255\n",
    "                pixelsNew[i-k-1, j-k-1] = 255\n",
    "                \n",
    "img.show()"
   ]
  },
  {
   "cell_type": "code",
   "execution_count": 102,
   "id": "80e1fa5b",
   "metadata": {},
   "outputs": [],
   "source": [
    "img.show()"
   ]
  },
  {
   "cell_type": "code",
   "execution_count": 113,
   "id": "2c0c4b33",
   "metadata": {},
   "outputs": [],
   "source": [
    "newImg = img.filter(ImageFilter.FIND_EDGES)\n",
    "newImg2 = img.filter(ImageFilter.Kernel((3,3),(1,1,1,0,0,0,1,1,1),2,0))\n",
    "newImg2.show()"
   ]
  },
  {
   "cell_type": "code",
   "execution_count": 117,
   "id": "d9bb0e8e",
   "metadata": {},
   "outputs": [],
   "source": [
    "newImg2.show()"
   ]
  },
  {
   "cell_type": "code",
   "execution_count": 121,
   "id": "cc3f2552",
   "metadata": {},
   "outputs": [],
   "source": [
    "newImg3 = img.filter(ImageFilter.BLUR)\n",
    "newImg3.show()\n",
    "newImg3 = img.filter(ImageFilter.FIND_EDGES)\n",
    "newImg3.show()"
   ]
  },
  {
   "cell_type": "code",
   "execution_count": null,
   "id": "fb1b5a4b",
   "metadata": {},
   "outputs": [],
   "source": []
  }
 ],
 "metadata": {
  "kernelspec": {
   "display_name": "Python 3 (ipykernel)",
   "language": "python",
   "name": "python3"
  },
  "language_info": {
   "codemirror_mode": {
    "name": "ipython",
    "version": 3
   },
   "file_extension": ".py",
   "mimetype": "text/x-python",
   "name": "python",
   "nbconvert_exporter": "python",
   "pygments_lexer": "ipython3",
   "version": "3.9.7"
  }
 },
 "nbformat": 4,
 "nbformat_minor": 5
}
