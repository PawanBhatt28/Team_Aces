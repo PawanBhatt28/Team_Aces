{
 "cells": [
  {
   "cell_type": "code",
   "execution_count": 1,
   "id": "0df578e8",
   "metadata": {},
   "outputs": [],
   "source": [
    "from keras.models import Sequential, Model, load_model\n",
    "from keras.applications.vgg16 import VGG16, preprocess_input\n",
    "from tensorflow.keras.preprocessing.image import load_img\n",
    "# from keras.preprocessing.image import ImageDataGenerator, load_ig, img_to_array\n",
    "from keras.layers import *\n",
    "from keras.optimizers import *\n",
    "from keras.callbacks import Callback, EarlyStopping\n",
    "from keras.utils import to_categorical\n",
    "from sklearn.metrics import confusion_matrix\n",
    "import tensorflow as tf\n",
    "import matplotlib.pyplot as plt\n",
    "import os\n",
    "import glob\n",
    "import cv2\n",
    "import numpy as np\n",
    "import pandas as pd\n",
    "from PIL import Image\n",
    "from pathlib import Path\n",
    "import tensorflow as tf\n",
    "import matplotlib.pyplot as plt\n",
    "from random import shuffle\n",
    "from tqdm import tqdm\n",
    "%matplotlib inline"
   ]
  },
  {
   "cell_type": "code",
   "execution_count": null,
   "id": "b1a7f2a3",
   "metadata": {},
   "outputs": [],
   "source": []
  },
  {
   "cell_type": "code",
   "execution_count": null,
   "id": "a718bf9d",
   "metadata": {},
   "outputs": [],
   "source": []
  },
  {
   "cell_type": "code",
   "execution_count": 2,
   "id": "f3b3518f",
   "metadata": {},
   "outputs": [],
   "source": [
    "data_dir = Path(\"Dataset/Curve_NoCurve_Dataset/Curve_NoCurve_Dataset/\")\n",
    "\n",
    "train_data_curve = data_dir/\"train/curve\"\n",
    "train_data_nocurve = data_dir/\"train/no_curve\"\n",
    "\n",
    "test_data_curve = data_dir/\"test/curve\"\n",
    "test_data_nocurve = data_dir/\"test/no_curve\""
   ]
  },
  {
   "cell_type": "code",
   "execution_count": null,
   "id": "07a75925",
   "metadata": {},
   "outputs": [],
   "source": []
  },
  {
   "cell_type": "code",
   "execution_count": 3,
   "id": "b4cd86ba",
   "metadata": {},
   "outputs": [],
   "source": [
    "def test_data_with_label(pathh):\n",
    "    test_images = []\n",
    "    \n",
    "    for i in tqdm(os.listdir(pathh)):\n",
    "        path = os.path.join(pathh, i)\n",
    "        img = cv2.imread(path, cv2.IMREAD_GRAYSCALE)\n",
    "#         img = cv2.resize(img, 256, 256)\n",
    "        test_images.append([np.array(img)])\n",
    "\n",
    "    return test_images"
   ]
  },
  {
   "cell_type": "code",
   "execution_count": 4,
   "id": "09b9c651",
   "metadata": {},
   "outputs": [],
   "source": [
    "def train_data_with_label(pathh):\n",
    "    train_images = []\n",
    "    \n",
    "    for i in tqdm(os.listdir(pathh)):\n",
    "        path = os.path.join(pathh, i)\n",
    "        img = cv2.imread(path, cv2.IMREAD_GRAYSCALE)\n",
    "#         img = cv2.resize(img, 256, 256)\n",
    "        train_images.append([np.array(img)])\n",
    "        \n",
    "    shuffle(train_images)\n",
    "    return train_images"
   ]
  },
  {
   "cell_type": "code",
   "execution_count": null,
   "id": "3197e6e3",
   "metadata": {},
   "outputs": [],
   "source": []
  },
  {
   "cell_type": "code",
   "execution_count": null,
   "id": "3e4157e9",
   "metadata": {},
   "outputs": [],
   "source": []
  },
  {
   "cell_type": "code",
   "execution_count": 5,
   "id": "3cc7e713",
   "metadata": {},
   "outputs": [
    {
     "name": "stderr",
     "output_type": "stream",
     "text": [
      "100%|███████████████████████████████████████████████████████████████████████████████| 455/455 [00:01<00:00, 250.35it/s]\n",
      "100%|███████████████████████████████████████████████████████████████████████████████| 450/450 [00:01<00:00, 265.64it/s]\n",
      "100%|█████████████████████████████████████████████████████████████████████████████████| 50/50 [00:00<00:00, 210.08it/s]\n",
      "100%|█████████████████████████████████████████████████████████████████████████████████| 70/70 [00:00<00:00, 303.03it/s]\n"
     ]
    }
   ],
   "source": [
    "## Training Images\n",
    "train_images1 = train_data_with_label(train_data_curve)\n",
    "train_images2 = train_data_with_label(train_data_nocurve)\n",
    "train_image = np.append(train_images1, train_images2)\n",
    "train_image = train_image.reshape(-1,256, 256, 1)\n",
    "\n",
    "## Training Labels\n",
    "label1 = np.ones(len(train_images1),dtype=np.int8) \n",
    "label2 = np.zeros(len(train_images2), dtype=np.int8)\n",
    "train_label = np.append(label1, label2)\n",
    "\n",
    "## Shuffling Dataset\n",
    "c = list(zip(train_image, train_label))\n",
    "shuffle(c)\n",
    "train_image , train_label = zip(*c)\n",
    "train_image = np.asarray(train_image)\n",
    "train_label = np.asarray(train_label)\n",
    "\n",
    "## Testing Images\n",
    "test_images1 = test_data_with_label(test_data_curve)\n",
    "test_images2 = test_data_with_label(test_data_nocurve)\n",
    "test_image = np.append(test_images1, test_images2)\n",
    "test_image = test_image.reshape(-1, 256, 256, 1)\n",
    "\n",
    "## Testing Labels\n",
    "label1 = np.ones(len(test_images1),dtype=np.int8) \n",
    "label2 = np.zeros(len(test_images2), dtype=np.int8)\n",
    "test_label = np.append(label1, label2)\n",
    "\n",
    "## Shuffling Dataset\n",
    "d = list(zip(test_image, test_label))\n",
    "shuffle(d)\n",
    "test_image, test_label = zip(*d)\n",
    "test_image = np.asarray(test_image)\n",
    "test_label = np.asarray(test_label)"
   ]
  },
  {
   "cell_type": "code",
   "execution_count": 6,
   "id": "01e4dd8b",
   "metadata": {},
   "outputs": [
    {
     "data": {
      "text/plain": [
       "array([0, 0, 0, 1, 0, 1, 0, 1, 1, 0, 1, 0, 0, 1, 0, 0, 1, 0, 0, 1, 0, 1,\n",
       "       0, 0, 1, 0, 0, 1, 1, 1, 0, 0, 0, 1, 1, 0, 1, 0, 0, 1, 0, 0, 0, 0,\n",
       "       1, 0, 0, 1, 1, 1, 1, 1, 0, 1, 0, 1, 1, 1, 1, 1, 0, 0, 1, 0, 0, 0,\n",
       "       0, 1, 0, 1, 1, 1, 0, 0, 0, 0, 0, 0, 1, 1, 1, 0, 0, 1, 0, 1, 1, 0,\n",
       "       0, 0, 0, 0, 0, 0, 0, 1, 1, 0, 0, 1, 0, 0, 0, 0, 1, 0, 1, 0, 1, 0,\n",
       "       1, 0, 0, 1, 1, 0, 0, 1, 0, 0], dtype=int8)"
      ]
     },
     "execution_count": 6,
     "metadata": {},
     "output_type": "execute_result"
    }
   ],
   "source": [
    "test_label"
   ]
  },
  {
   "cell_type": "code",
   "execution_count": null,
   "id": "633af7e5",
   "metadata": {},
   "outputs": [],
   "source": []
  },
  {
   "cell_type": "code",
   "execution_count": null,
   "id": "51fe1ca5",
   "metadata": {},
   "outputs": [],
   "source": []
  },
  {
   "cell_type": "code",
   "execution_count": 7,
   "id": "10808ae5",
   "metadata": {},
   "outputs": [],
   "source": [
    "trl = np.zeros((train_label.size, train_label.max() +1 ))\n",
    "trl[np.arange(train_label.size), train_label] = 1 \n",
    "train_label = trl\n",
    "\n",
    "tel = np.zeros((test_label.size, test_label.max() + 1))\n",
    "tel[np.arange(test_label.size), test_label] = 1\n",
    "test_label = tel"
   ]
  },
  {
   "cell_type": "code",
   "execution_count": null,
   "id": "9064d3f0",
   "metadata": {},
   "outputs": [],
   "source": []
  },
  {
   "cell_type": "code",
   "execution_count": null,
   "id": "5891768b",
   "metadata": {},
   "outputs": [],
   "source": []
  },
  {
   "cell_type": "code",
   "execution_count": 8,
   "id": "10a5aa47",
   "metadata": {},
   "outputs": [
    {
     "name": "stdout",
     "output_type": "stream",
     "text": [
      "Train Image :  (905, 256, 256, 1)\n",
      "Train Labels:  (905, 2)\n",
      "Test Image  :  (120, 256, 256, 1)\n",
      "Test Labels:  (120, 2)\n"
     ]
    }
   ],
   "source": [
    "print(\"Train Image : \", train_image.shape)\n",
    "print(\"Train Labels: \", train_label.shape)\n",
    "print(\"Test Image  : \", test_image.shape)\n",
    "print(\"Test Labels: \", test_label.shape)"
   ]
  },
  {
   "cell_type": "code",
   "execution_count": null,
   "id": "5363df44",
   "metadata": {},
   "outputs": [],
   "source": []
  },
  {
   "cell_type": "code",
   "execution_count": null,
   "id": "61a1a9c1",
   "metadata": {},
   "outputs": [],
   "source": []
  },
  {
   "cell_type": "code",
   "execution_count": 9,
   "id": "d697b7d6",
   "metadata": {},
   "outputs": [
    {
     "name": "stdout",
     "output_type": "stream",
     "text": [
      "Epoch 1/50\n",
      "10/10 [==============================] - 18s 2s/step - loss: 24.4333 - accuracy: 0.5282\n",
      "Epoch 2/50\n",
      "10/10 [==============================] - 14s 1s/step - loss: 0.8758 - accuracy: 0.6331\n",
      "Epoch 3/50\n",
      "10/10 [==============================] - 15s 1s/step - loss: 0.6403 - accuracy: 0.6575\n",
      "Epoch 4/50\n",
      "10/10 [==============================] - 14s 1s/step - loss: 0.5951 - accuracy: 0.6674\n",
      "Epoch 5/50\n",
      "10/10 [==============================] - 14s 1s/step - loss: 0.5219 - accuracy: 0.7359\n",
      "Epoch 6/50\n",
      "10/10 [==============================] - 14s 1s/step - loss: 0.4565 - accuracy: 0.8033\n",
      "Epoch 7/50\n",
      "10/10 [==============================] - 14s 1s/step - loss: 0.3997 - accuracy: 0.8420\n",
      "Epoch 8/50\n",
      "10/10 [==============================] - 15s 2s/step - loss: 0.3883 - accuracy: 0.8453\n",
      "Epoch 9/50\n",
      "10/10 [==============================] - 14s 1s/step - loss: 0.3354 - accuracy: 0.8729\n",
      "Epoch 10/50\n",
      "10/10 [==============================] - 14s 1s/step - loss: 0.3129 - accuracy: 0.8740\n",
      "Epoch 11/50\n",
      "10/10 [==============================] - 14s 1s/step - loss: 0.2623 - accuracy: 0.8972\n",
      "Epoch 12/50\n",
      "10/10 [==============================] - 14s 1s/step - loss: 0.1963 - accuracy: 0.9249\n",
      "Epoch 13/50\n",
      "10/10 [==============================] - 14s 1s/step - loss: 0.2006 - accuracy: 0.9293\n",
      "Epoch 14/50\n",
      "10/10 [==============================] - 14s 1s/step - loss: 0.1497 - accuracy: 0.9481\n",
      "Epoch 15/50\n",
      "10/10 [==============================] - 14s 1s/step - loss: 0.1213 - accuracy: 0.9580\n",
      "Epoch 16/50\n",
      "10/10 [==============================] - 14s 1s/step - loss: 0.0970 - accuracy: 0.9680\n",
      "Epoch 17/50\n",
      "10/10 [==============================] - 14s 1s/step - loss: 0.0926 - accuracy: 0.9635\n",
      "Epoch 18/50\n",
      "10/10 [==============================] - 14s 1s/step - loss: 0.0975 - accuracy: 0.9580\n",
      "Epoch 19/50\n",
      "10/10 [==============================] - 14s 1s/step - loss: 0.0815 - accuracy: 0.9724\n",
      "Epoch 20/50\n",
      "10/10 [==============================] - 14s 1s/step - loss: 0.0704 - accuracy: 0.9779\n",
      "Epoch 21/50\n",
      "10/10 [==============================] - 14s 1s/step - loss: 0.0552 - accuracy: 0.9779\n",
      "Epoch 22/50\n",
      "10/10 [==============================] - 14s 1s/step - loss: 0.0391 - accuracy: 0.9867\n",
      "Epoch 23/50\n",
      "10/10 [==============================] - 14s 1s/step - loss: 0.0543 - accuracy: 0.9834\n",
      "Epoch 24/50\n",
      "10/10 [==============================] - 14s 1s/step - loss: 0.0748 - accuracy: 0.9669\n",
      "Epoch 25/50\n",
      "10/10 [==============================] - 14s 1s/step - loss: 0.0592 - accuracy: 0.9746\n",
      "Epoch 26/50\n",
      "10/10 [==============================] - 14s 1s/step - loss: 0.0849 - accuracy: 0.9702\n",
      "Epoch 27/50\n",
      "10/10 [==============================] - 14s 1s/step - loss: 0.0534 - accuracy: 0.9801\n",
      "Epoch 28/50\n",
      "10/10 [==============================] - 14s 1s/step - loss: 0.0442 - accuracy: 0.9801\n",
      "Epoch 29/50\n",
      "10/10 [==============================] - 14s 1s/step - loss: 0.0344 - accuracy: 0.9867\n",
      "Epoch 30/50\n",
      "10/10 [==============================] - 14s 1s/step - loss: 0.0256 - accuracy: 0.9901\n",
      "Epoch 31/50\n",
      "10/10 [==============================] - 14s 1s/step - loss: 0.0267 - accuracy: 0.9890\n",
      "Epoch 32/50\n",
      "10/10 [==============================] - 14s 1s/step - loss: 0.0186 - accuracy: 0.9956\n",
      "Epoch 33/50\n",
      "10/10 [==============================] - 14s 1s/step - loss: 0.0148 - accuracy: 0.9934\n",
      "Epoch 34/50\n",
      "10/10 [==============================] - 14s 1s/step - loss: 0.0113 - accuracy: 0.9967\n",
      "Epoch 35/50\n",
      "10/10 [==============================] - 14s 1s/step - loss: 0.0197 - accuracy: 0.9923\n",
      "Epoch 36/50\n",
      "10/10 [==============================] - 14s 1s/step - loss: 0.0351 - accuracy: 0.9856\n",
      "Epoch 37/50\n",
      "10/10 [==============================] - 14s 1s/step - loss: 0.0188 - accuracy: 0.9956\n",
      "Epoch 38/50\n",
      "10/10 [==============================] - 14s 1s/step - loss: 0.0103 - accuracy: 1.0000\n",
      "Epoch 39/50\n",
      "10/10 [==============================] - 14s 1s/step - loss: 0.0133 - accuracy: 0.9934\n",
      "Epoch 40/50\n",
      "10/10 [==============================] - 14s 1s/step - loss: 0.0128 - accuracy: 0.9945\n",
      "Epoch 41/50\n",
      "10/10 [==============================] - 14s 1s/step - loss: 0.0100 - accuracy: 0.9967\n",
      "Epoch 42/50\n",
      "10/10 [==============================] - 14s 1s/step - loss: 0.0087 - accuracy: 0.9967\n",
      "Epoch 43/50\n",
      "10/10 [==============================] - 14s 1s/step - loss: 0.0080 - accuracy: 0.9956\n",
      "Epoch 44/50\n",
      "10/10 [==============================] - 14s 1s/step - loss: 0.0110 - accuracy: 0.9978\n",
      "Epoch 45/50\n",
      "10/10 [==============================] - 14s 1s/step - loss: 0.0155 - accuracy: 0.9945\n",
      "Epoch 46/50\n",
      "10/10 [==============================] - 14s 1s/step - loss: 0.0150 - accuracy: 0.9945\n",
      "Epoch 47/50\n",
      "10/10 [==============================] - 14s 1s/step - loss: 0.0068 - accuracy: 0.9978\n",
      "Epoch 48/50\n",
      "10/10 [==============================] - 14s 1s/step - loss: 0.0049 - accuracy: 0.9989\n",
      "Epoch 49/50\n",
      "10/10 [==============================] - 14s 1s/step - loss: 0.0031 - accuracy: 1.0000\n",
      "Epoch 50/50\n",
      "10/10 [==============================] - 14s 1s/step - loss: 0.0022 - accuracy: 0.9989\n"
     ]
    },
    {
     "data": {
      "text/plain": [
       "<keras.callbacks.History at 0x18dacfbf130>"
      ]
     },
     "execution_count": 9,
     "metadata": {},
     "output_type": "execute_result"
    }
   ],
   "source": [
    "model = Sequential()\n",
    "\n",
    "model.add( InputLayer( input_shape=[256, 256, 1]))\n",
    "model.add(Conv2D(filters=32, kernel_size=5, strides=1, padding='same',activation='relu'))\n",
    "model.add(MaxPool2D(pool_size=5,padding='same'))\n",
    "\n",
    "model.add(Conv2D(filters=50, kernel_size=5, strides=1, padding='same', activation='relu'))\n",
    "model.add(MaxPool2D(pool_size=5, padding='same'))\n",
    "\n",
    "model.add(Conv2D(filters=80, kernel_size=5, strides=1, padding='same', activation='relu'))\n",
    "model.add(MaxPool2D(pool_size=5, padding='same'))\n",
    "\n",
    "model.add(Dropout(0.25))\n",
    "model.add(Flatten())\n",
    "model.add(Dense(512, activation='relu'))\n",
    "model.add(Dropout(rate=0.5))\n",
    "model.add(Dense(2, activation='softmax')) # i changed this Dense 2 -> 1, and its not giving error of Dimensions not matching (900,1) with (900,2)\n",
    "\n",
    "optimizer = Adam(learning_rate=1e-3)\n",
    "\n",
    "model.compile(optimizer=optimizer, loss='categorical_crossentropy', metrics=[\"accuracy\"])\n",
    "model.fit(x=train_image, y=train_label, epochs=50, batch_size=100)\n"
   ]
  },
  {
   "cell_type": "code",
   "execution_count": 10,
   "id": "7b772f4a",
   "metadata": {},
   "outputs": [
    {
     "name": "stderr",
     "output_type": "stream",
     "text": [
      "WARNING:absl:Found untraced functions such as _jit_compiled_convolution_op, _jit_compiled_convolution_op, _jit_compiled_convolution_op while saving (showing 3 of 3). These functions will not be directly callable after loading.\n"
     ]
    },
    {
     "name": "stdout",
     "output_type": "stream",
     "text": [
      "INFO:tensorflow:Assets written to: ram://97577788-4ec0-431c-9572-9d74490aa9aa/assets\n"
     ]
    },
    {
     "name": "stderr",
     "output_type": "stream",
     "text": [
      "INFO:tensorflow:Assets written to: ram://97577788-4ec0-431c-9572-9d74490aa9aa/assets\n"
     ]
    }
   ],
   "source": [
    "import pickle\n",
    "pickle.dump(model, open(\"model2.pkl\", 'wb'))"
   ]
  },
  {
   "cell_type": "code",
   "execution_count": null,
   "id": "0971066c",
   "metadata": {},
   "outputs": [],
   "source": []
  }
 ],
 "metadata": {
  "kernelspec": {
   "display_name": "Python 3 (ipykernel)",
   "language": "python",
   "name": "python3"
  },
  "language_info": {
   "codemirror_mode": {
    "name": "ipython",
    "version": 3
   },
   "file_extension": ".py",
   "mimetype": "text/x-python",
   "name": "python",
   "nbconvert_exporter": "python",
   "pygments_lexer": "ipython3",
   "version": "3.9.7"
  }
 },
 "nbformat": 4,
 "nbformat_minor": 5
}
