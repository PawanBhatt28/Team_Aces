{
 "cells": [
  {
   "cell_type": "code",
   "execution_count": 1,
   "id": "0df578e8",
   "metadata": {},
   "outputs": [],
   "source": [
    "from keras.models import Sequential, Model, load_model\n",
    "from keras.applications.vgg16 import VGG16, preprocess_input\n",
    "from tensorflow.keras.preprocessing.image import load_img\n",
    "# from keras.preprocessing.image import ImageDataGenerator, load_ig, img_to_array\n",
    "from keras.layers import *\n",
    "from keras.optimizers import *\n",
    "from keras.callbacks import Callback, EarlyStopping\n",
    "from keras.utils import to_categorical\n",
    "from sklearn.metrics import confusion_matrix\n",
    "import tensorflow as tf\n",
    "import matplotlib.pyplot as plt\n",
    "import os\n",
    "import glob\n",
    "import cv2\n",
    "import numpy as np\n",
    "import pandas as pd\n",
    "from PIL import Image\n",
    "from pathlib import Path\n",
    "import tensorflow as tf\n",
    "import matplotlib.pyplot as plt\n",
    "from random import shuffle\n",
    "from tqdm import tqdm\n",
    "%matplotlib inline"
   ]
  },
  {
   "cell_type": "code",
   "execution_count": null,
   "id": "77407afd",
   "metadata": {},
   "outputs": [],
   "source": []
  },
  {
   "cell_type": "code",
   "execution_count": null,
   "id": "a718bf9d",
   "metadata": {},
   "outputs": [],
   "source": []
  },
  {
   "cell_type": "code",
   "execution_count": 2,
   "id": "f3b3518f",
   "metadata": {},
   "outputs": [],
   "source": [
    "data_dir = Path(\"Dataset/Curve_NoCurve_Dataset/Curve_NoCurve_Dataset/\")\n",
    "\n",
    "train_data_curve = data_dir/\"train/curve\"\n",
    "train_data_nocurve = data_dir/\"train/no_curve\"\n",
    "\n",
    "test_data_curve = data_dir/\"test/curve\"\n",
    "test_data_nocurve = data_dir/\"test/no_curve\""
   ]
  },
  {
   "cell_type": "code",
   "execution_count": null,
   "id": "07a75925",
   "metadata": {},
   "outputs": [],
   "source": []
  },
  {
   "cell_type": "code",
   "execution_count": 5,
   "id": "b4cd86ba",
   "metadata": {},
   "outputs": [],
   "source": [
    "def test_data_with_label(pathh):\n",
    "    test_images = []\n",
    "    \n",
    "    for i in tqdm(os.listdir(pathh)):\n",
    "        path = os.path.join(pathh, i)\n",
    "        img = cv2.imread(path, cv2.IMREAD_GRAYSCALE)\n",
    "#         img = cv2.resize(img, 256, 256)\n",
    "        test_images.append([np.array(img)])\n",
    "\n",
    "    return test_images"
   ]
  },
  {
   "cell_type": "code",
   "execution_count": 6,
   "id": "09b9c651",
   "metadata": {},
   "outputs": [],
   "source": [
    "def train_data_with_label(pathh):\n",
    "    train_images = []\n",
    "    \n",
    "    for i in tqdm(os.listdir(pathh)):\n",
    "        path = os.path.join(pathh, i)\n",
    "        img = cv2.imread(path, cv2.IMREAD_GRAYSCALE)\n",
    "#         img = cv2.resize(img, 256, 256)\n",
    "        train_images.append([np.array(img)])\n",
    "        \n",
    "    shuffle(train_images)\n",
    "    return train_images"
   ]
  },
  {
   "cell_type": "code",
   "execution_count": null,
   "id": "3197e6e3",
   "metadata": {},
   "outputs": [],
   "source": []
  },
  {
   "cell_type": "code",
   "execution_count": null,
   "id": "3e4157e9",
   "metadata": {},
   "outputs": [],
   "source": []
  },
  {
   "cell_type": "code",
   "execution_count": 11,
   "id": "386e1c07",
   "metadata": {},
   "outputs": [
    {
     "name": "stderr",
     "output_type": "stream",
     "text": [
      "100%|███████████████████████████████████████████████████████████████████████████████| 450/450 [00:00<00:00, 604.58it/s]\n",
      "100%|███████████████████████████████████████████████████████████████████████████████| 450/450 [00:00<00:00, 639.94it/s]\n",
      "100%|████████████████████████████████████████████████████████████████████████████████| 50/50 [00:00<00:00, 1008.50it/s]\n",
      "100%|█████████████████████████████████████████████████████████████████████████████████| 62/62 [00:00<00:00, 643.56it/s]\n"
     ]
    }
   ],
   "source": [
    "## Training Images\n",
    "train_images1 = train_data_with_label(train_data_curve)\n",
    "train_images2 = train_data_with_label(train_data_nocurve)\n",
    "train_image = np.append(train_images1, train_images2)\n",
    "train_image = train_image.reshape(-1,256, 256, 1)\n",
    "\n",
    "## Training Labels\n",
    "label1 = np.ones(len(train_images1),dtype=np.int8) \n",
    "label2 = np.zeros(len(train_images2), dtype=np.int8)\n",
    "train_label = np.append(label1, label2)\n",
    "\n",
    "## Shuffling Dataset\n",
    "c = list(zip(train_image, train_label))\n",
    "shuffle(c)\n",
    "train_image , train_label = zip(*c)\n",
    "train_image = np.asarray(train_image)\n",
    "train_label = np.asarray(train_label)\n",
    "\n",
    "## Testing Images\n",
    "test_images1 = test_data_with_label(test_data_curve)\n",
    "test_images2 = test_data_with_label(test_data_nocurve)\n",
    "test_image = np.append(test_images1, test_images2)\n",
    "test_image = test_image.reshape(-1, 256, 256, 1)\n",
    "\n",
    "## Testing Labels\n",
    "label1 = np.ones(len(test_images1),dtype=np.int8) \n",
    "label2 = np.zeros(len(test_images2), dtype=np.int8)\n",
    "test_label = np.append(label1, label2)\n",
    "\n",
    "## Shuffling Dataset\n",
    "d = list(zip(test_image, test_label))\n",
    "shuffle(d)\n",
    "test_image, test_label = zip(*d)\n",
    "test_image = np.asarray(test_image)\n",
    "test_label = np.asarray(test_label)"
   ]
  },
  {
   "cell_type": "code",
   "execution_count": 12,
   "id": "11d55481",
   "metadata": {},
   "outputs": [
    {
     "data": {
      "text/plain": [
       "array([1, 1, 1, 0, 0, 0, 0, 0, 1, 1, 1, 0, 0, 1, 0, 0, 0, 1, 0, 0, 1, 0,\n",
       "       0, 1, 0, 1, 0, 0, 1, 0, 0, 1, 1, 0, 1, 1, 1, 1, 1, 1, 0, 0, 1, 1,\n",
       "       1, 1, 0, 1, 0, 1, 1, 0, 0, 0, 1, 0, 1, 0, 1, 0, 0, 0, 0, 1, 0, 0,\n",
       "       0, 1, 0, 1, 0, 1, 1, 0, 0, 0, 1, 0, 1, 0, 1, 0, 0, 0, 0, 0, 1, 0,\n",
       "       1, 1, 1, 0, 1, 0, 1, 1, 0, 1, 1, 0, 0, 0, 0, 1, 0, 1, 0, 0, 0, 0,\n",
       "       1, 0], dtype=int8)"
      ]
     },
     "execution_count": 12,
     "metadata": {},
     "output_type": "execute_result"
    }
   ],
   "source": [
    "test_label"
   ]
  },
  {
   "cell_type": "code",
   "execution_count": null,
   "id": "06b9698f",
   "metadata": {},
   "outputs": [],
   "source": []
  },
  {
   "cell_type": "code",
   "execution_count": null,
   "id": "46585551",
   "metadata": {},
   "outputs": [],
   "source": []
  },
  {
   "cell_type": "code",
   "execution_count": 13,
   "id": "ff885bd9",
   "metadata": {},
   "outputs": [],
   "source": [
    "trl = np.zeros((train_label.size, train_label.max() +1 ))\n",
    "trl[np.arange(train_label.size), train_label] = 1 \n",
    "train_label = trl\n",
    "\n",
    "tel = np.zeros((test_label.size, test_label.max() + 1))\n",
    "tel[np.arange(test_label.size), test_label] = 1\n",
    "test_label = tel"
   ]
  },
  {
   "cell_type": "code",
   "execution_count": null,
   "id": "f2648ceb",
   "metadata": {},
   "outputs": [],
   "source": []
  },
  {
   "cell_type": "code",
   "execution_count": null,
   "id": "25993338",
   "metadata": {},
   "outputs": [],
   "source": []
  },
  {
   "cell_type": "code",
   "execution_count": 15,
   "id": "43b22e2c",
   "metadata": {},
   "outputs": [
    {
     "name": "stdout",
     "output_type": "stream",
     "text": [
      "Train Image :  (900, 256, 256, 1)\n",
      "Train Labels:  (900, 2)\n",
      "Test Image  :  (112, 256, 256, 1)\n",
      "Test Labels:  (112, 2)\n"
     ]
    }
   ],
   "source": [
    "print(\"Train Image : \", train_image.shape)\n",
    "print(\"Train Labels: \", train_label.shape)\n",
    "print(\"Test Image  : \", test_image.shape)\n",
    "print(\"Test Labels: \", test_label.shape)"
   ]
  },
  {
   "cell_type": "code",
   "execution_count": null,
   "id": "b0111a99",
   "metadata": {},
   "outputs": [],
   "source": []
  },
  {
   "cell_type": "code",
   "execution_count": null,
   "id": "70948f31",
   "metadata": {},
   "outputs": [],
   "source": []
  },
  {
   "cell_type": "code",
   "execution_count": 16,
   "id": "c7152ada",
   "metadata": {},
   "outputs": [],
   "source": [
    "model = Sequential()\n",
    "\n",
    "model.add( InputLayer( input_shape=[256, 256, 1]))\n",
    "model.add(Conv2D(filters=32, kernel_size=5, strides=1, padding='same',activation='relu'))\n",
    "model.add(MaxPool2D(pool_size=5,padding='same'))"
   ]
  },
  {
   "cell_type": "code",
   "execution_count": null,
   "id": "38be95c9",
   "metadata": {},
   "outputs": [],
   "source": []
  }
 ],
 "metadata": {
  "kernelspec": {
   "display_name": "Python 3 (ipykernel)",
   "language": "python",
   "name": "python3"
  },
  "language_info": {
   "codemirror_mode": {
    "name": "ipython",
    "version": 3
   },
   "file_extension": ".py",
   "mimetype": "text/x-python",
   "name": "python",
   "nbconvert_exporter": "python",
   "pygments_lexer": "ipython3",
   "version": "3.9.7"
  }
 },
 "nbformat": 4,
 "nbformat_minor": 5
}
