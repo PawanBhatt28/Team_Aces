{
 "cells": [
  {
   "cell_type": "code",
   "execution_count": 1,
   "id": "0df578e8",
   "metadata": {},
   "outputs": [],
   "source": [
    "from keras.models import Sequential, Model, load_model\n",
    "from keras.applications.vgg16 import VGG16, preprocess_input\n",
    "from tensorflow.keras.preprocessing.image import load_img\n",
    "# from keras.preprocessing.image import ImageDataGenerator, load_ig, img_to_array\n",
    "from keras.layers import *\n",
    "from keras.optimizers import *\n",
    "from keras.callbacks import Callback, EarlyStopping\n",
    "from keras.utils import to_categorical\n",
    "from sklearn.metrics import confusion_matrix\n",
    "import tensorflow as tf\n",
    "import matplotlib.pyplot as plt\n",
    "import os\n",
    "import glob\n",
    "import cv2\n",
    "import numpy as np\n",
    "import pandas as pd\n",
    "from PIL import Image\n",
    "from pathlib import Path\n",
    "import tensorflow as tf\n",
    "import matplotlib.pyplot as plt\n",
    "from random import shuffle\n",
    "from tqdm import tqdm\n",
    "%matplotlib inline"
   ]
  },
  {
   "cell_type": "code",
   "execution_count": null,
   "id": "a718bf9d",
   "metadata": {},
   "outputs": [],
   "source": []
  },
  {
   "cell_type": "code",
   "execution_count": 2,
   "id": "f3b3518f",
   "metadata": {},
   "outputs": [],
   "source": [
    "data_dir = Path(\"Dataset/Curve_NoCurve_Dataset/Curve_NoCurve_Dataset/\")\n",
    "\n",
    "train_data_curve = data_dir/\"train/curve\"\n",
    "train_data_nocurve = data_dir/\"train/no_curve\"\n",
    "\n",
    "test_data_curve = data_dir/\"test/curve\"\n",
    "test_data_nocurve = data_dir/\"test/no_curve\""
   ]
  },
  {
   "cell_type": "code",
   "execution_count": null,
   "id": "07a75925",
   "metadata": {},
   "outputs": [],
   "source": []
  },
  {
   "cell_type": "code",
   "execution_count": 5,
   "id": "b4cd86ba",
   "metadata": {},
   "outputs": [],
   "source": [
    "def test_data_with_label(pathh):\n",
    "    test_images = []\n",
    "    \n",
    "    for i in tqdm(os.listdir(pathh)):\n",
    "        path = os.path.join(pathh, i)\n",
    "        img = cv2.imread(path, cv2.IMREAD_GRAYSCALE)\n",
    "#         img = cv2.resize(img, 256, 256)\n",
    "        test_images.append([np.array(img)])\n",
    "\n",
    "    return test_images"
   ]
  },
  {
   "cell_type": "code",
   "execution_count": 6,
   "id": "09b9c651",
   "metadata": {},
   "outputs": [],
   "source": [
    "def train_data_with_label(pathh):\n",
    "    train_images = []\n",
    "    \n",
    "    for i in tqdm(os.listdir(pathh)):\n",
    "        path = os.path.join(pathh, i)\n",
    "        img = cv2.imread(path, cv2.IMREAD_GRAYSCALE)\n",
    "#         img = cv2.resize(img, 256, 256)\n",
    "        train_images.append([np.array(img)])\n",
    "        \n",
    "    shuffle(train_images)\n",
    "    return train_images"
   ]
  },
  {
   "cell_type": "code",
   "execution_count": null,
   "id": "3197e6e3",
   "metadata": {},
   "outputs": [],
   "source": []
  },
  {
   "cell_type": "code",
   "execution_count": null,
   "id": "3e4157e9",
   "metadata": {},
   "outputs": [],
   "source": []
  }
 ],
 "metadata": {
  "kernelspec": {
   "display_name": "Python 3 (ipykernel)",
   "language": "python",
   "name": "python3"
  },
  "language_info": {
   "codemirror_mode": {
    "name": "ipython",
    "version": 3
   },
   "file_extension": ".py",
   "mimetype": "text/x-python",
   "name": "python",
   "nbconvert_exporter": "python",
   "pygments_lexer": "ipython3",
   "version": "3.9.7"
  }
 },
 "nbformat": 4,
 "nbformat_minor": 5
}
